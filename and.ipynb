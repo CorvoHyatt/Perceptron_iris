{
 "cells": [
  {
   "cell_type": "code",
   "execution_count": 1,
   "metadata": {},
   "outputs": [],
   "source": [
    "import numpy as np"
   ]
  },
  {
   "cell_type": "code",
   "execution_count": 42,
   "metadata": {},
   "outputs": [],
   "source": [
    "from typing import List\n",
    "class Perceptron:\n",
    "    def __init__(self,eta:float,n_iter:int, random_state:int, init_weight:bool, weights:List[int],shuffle:bool, f_activate:str):\n",
    "        self.eta = eta\n",
    "        self.n_iter = n_iter\n",
    "        self.random_state = random_state\n",
    "        self.init_weight = init_weight\n",
    "        self.weights = weights\n",
    "        self.shuffle = shuffle\n",
    "        self.f_activate = f_activate\n",
    "        self.errors = []\n",
    "    \n",
    "    def _initialize_weights(self, num_features):\n",
    "        if self.init_weight:\n",
    "            if self.random_state is not None:\n",
    "                np.random.seed(self.random_state)\n",
    "            self.weights = np.random.normal(loc=0.0, scale=0.01, size=num_features + 1)\n",
    "        else:\n",
    "            self.weights = np.zeros(num_features + 1)\n",
    "\n",
    "    def _activate(self, z):\n",
    "        if self.f_activate == 'step':\n",
    "            return 1 if z >= 0 else 0\n",
    "        elif self.f_activate == 'sign':\n",
    "            return np.sign(z)\n",
    "\n",
    "    def net_input(self, X):\n",
    "        return np.dot(X, self.weights[1:]) + self.weights[0]\n",
    "\n",
    "    def predict(self, X):\n",
    "        z = self.net_input(X)\n",
    "        return self._activate(z)       \n",
    "    \n",
    "    def fit(self, X, y):\n",
    "        if self.weights is None:\n",
    "            num_features = X.shape[1]\n",
    "            self._initialize_weights(num_features)\n",
    "        if self.n_iter <= 0:  # Entrenar hasta que todos los ejemplos hayan sido aprendidos\n",
    "            epoch = 0\n",
    "            while True:\n",
    "                if self.shuffle:\n",
    "                    indices = np.random.permutation(len(y))\n",
    "                    X, y = X[indices], y[indices]\n",
    "                errors = 0\n",
    "                for xi, t in zip(X, y):\n",
    "                    update = self.eta * (t - self.predict(xi))\n",
    "                    self.weights[1:] += update * xi\n",
    "                    self.weights[0] += update\n",
    "                    errors += int(update != 0)\n",
    "                self.errors.append(errors)\n",
    "                epoch += 1\n",
    "                if errors == 0:\n",
    "                    break\n",
    "        else:  # Entrenar durante un número fijo de iteraciones\n",
    "            for _ in range(self.n_iter):\n",
    "                if self.shuffle:\n",
    "                    indices = np.random.permutation(len(y))\n",
    "                    X, y = X[indices], y[indices]\n",
    "                errors = 0\n",
    "                for xi, t in zip(X, y):\n",
    "                    update = self.eta * (t - self.predict(xi))\n",
    "                    self.weights[1:] += update * xi\n",
    "                    self.weights[0] += update\n",
    "                    errors += int(update != 0)\n",
    "                self.errors.append(errors)\n",
    "\n",
    "    \n",
    "        \n",
    "    "
   ]
  },
  {
   "cell_type": "code",
   "execution_count": 38,
   "metadata": {},
   "outputs": [],
   "source": [
    "datos = [[1,1],[1,-1],[-1,1],[-1,-1]]\n",
    "X = np.array(datos)\n",
    "y = [1,-1,-1,-1]"
   ]
  },
  {
   "cell_type": "code",
   "execution_count": 39,
   "metadata": {},
   "outputs": [
    {
     "data": {
      "image/png": "[encoded data removed]",
      "text/plain": [
       "<Figure size 640x480 with 1 Axes>"
      ]
     },
     "metadata": {},
     "output_type": "display_data"
    }
   ],
   "source": [
    "\n",
    "%matplotlib inline\n",
    "import matplotlib.pyplot as plt\n",
    "\n",
    "#visualizar los datos\n",
    "plt.scatter(X[0:3, 0], X[0:3, 1], color = 'red', marker = 'o', label = 'Positivo')\n",
    "plt.scatter(X[3, 0], X[3, 1], color = 'blue', marker = 'x', label = 'Negativo')\n",
    "\n",
    "plt.xlabel('X1')\n",
    "plt.ylabel('X2')\n",
    "plt.legend(loc = 'upper center')\n",
    "\n",
    "plt.show()"
   ]
  },
  {
   "cell_type": "code",
   "execution_count": 43,
   "metadata": {},
   "outputs": [
    {
     "ename": "KeyboardInterrupt",
     "evalue": "",
     "output_type": "error",
     "traceback": [
      "\u001b[1;31m---------------------------------------------------------------------------\u001b[0m",
      "\u001b[1;31mKeyboardInterrupt\u001b[0m                         Traceback (most recent call last)",
      "\u001b[1;32mc:\\Users\\corvohyatt\\Documents\\UTM\\9no\\computoFlexible\\pr1-1-percetron-iris-CorvoHyatt\\and.ipynb Celda 5\u001b[0m line \u001b[0;36m2\n\u001b[0;32m      <a href='vscode-notebook-cell:/c%3A/Users/corvohyatt/Documents/UTM/9no/computoFlexible/pr1-1-percetron-iris-CorvoHyatt/and.ipynb#X10sZmlsZQ%3D%3D?line=0'>1</a>\u001b[0m ppn \u001b[39m=\u001b[39mPerceptron(eta\u001b[39m=\u001b[39m\u001b[39m0.5\u001b[39m, n_iter\u001b[39m=\u001b[39m\u001b[39m0\u001b[39m, random_state\u001b[39m=\u001b[39m\u001b[39m3\u001b[39m, init_weight\u001b[39m=\u001b[39m\u001b[39mFalse\u001b[39;00m,weights\u001b[39m=\u001b[39m[\u001b[39m0\u001b[39m,\u001b[39m0\u001b[39m,\u001b[39m0\u001b[39m], shuffle\u001b[39m=\u001b[39m\u001b[39mFalse\u001b[39;00m, f_activate\u001b[39m=\u001b[39m\u001b[39m'\u001b[39m\u001b[39mstep\u001b[39m\u001b[39m'\u001b[39m)\n\u001b[1;32m----> <a href='vscode-notebook-cell:/c%3A/Users/corvohyatt/Documents/UTM/9no/computoFlexible/pr1-1-percetron-iris-CorvoHyatt/and.ipynb#X10sZmlsZQ%3D%3D?line=1'>2</a>\u001b[0m ppn\u001b[39m.\u001b[39mfit(X,y)\n\u001b[0;32m      <a href='vscode-notebook-cell:/c%3A/Users/corvohyatt/Documents/UTM/9no/computoFlexible/pr1-1-percetron-iris-CorvoHyatt/and.ipynb#X10sZmlsZQ%3D%3D?line=3'>4</a>\u001b[0m plt\u001b[39m.\u001b[39mplot(\u001b[39mrange\u001b[39m(\u001b[39m1\u001b[39m, \u001b[39mlen\u001b[39m(ppn\u001b[39m.\u001b[39merrors) \u001b[39m+\u001b[39m \u001b[39m1\u001b[39m), ppn\u001b[39m.\u001b[39merrors, marker \u001b[39m=\u001b[39m \u001b[39m'\u001b[39m\u001b[39mo\u001b[39m\u001b[39m'\u001b[39m)\n\u001b[0;32m      <a href='vscode-notebook-cell:/c%3A/Users/corvohyatt/Documents/UTM/9no/computoFlexible/pr1-1-percetron-iris-CorvoHyatt/and.ipynb#X10sZmlsZQ%3D%3D?line=4'>5</a>\u001b[0m plt\u001b[39m.\u001b[39mxlabel(\u001b[39m'\u001b[39m\u001b[39mEpochs\u001b[39m\u001b[39m'\u001b[39m)\n",
      "\u001b[1;32mc:\\Users\\corvohyatt\\Documents\\UTM\\9no\\computoFlexible\\pr1-1-percetron-iris-CorvoHyatt\\and.ipynb Celda 5\u001b[0m line \u001b[0;36m4\n\u001b[0;32m     <a href='vscode-notebook-cell:/c%3A/Users/corvohyatt/Documents/UTM/9no/computoFlexible/pr1-1-percetron-iris-CorvoHyatt/and.ipynb#X10sZmlsZQ%3D%3D?line=44'>45</a>\u001b[0m \u001b[39mfor\u001b[39;00m xi, t \u001b[39min\u001b[39;00m \u001b[39mzip\u001b[39m(X, y):\n\u001b[0;32m     <a href='vscode-notebook-cell:/c%3A/Users/corvohyatt/Documents/UTM/9no/computoFlexible/pr1-1-percetron-iris-CorvoHyatt/and.ipynb#X10sZmlsZQ%3D%3D?line=45'>46</a>\u001b[0m     update \u001b[39m=\u001b[39m \u001b[39mself\u001b[39m\u001b[39m.\u001b[39meta \u001b[39m*\u001b[39m (t \u001b[39m-\u001b[39m \u001b[39mself\u001b[39m\u001b[39m.\u001b[39mpredict(xi))\n\u001b[1;32m---> <a href='vscode-notebook-cell:/c%3A/Users/corvohyatt/Documents/UTM/9no/computoFlexible/pr1-1-percetron-iris-CorvoHyatt/and.ipynb#X10sZmlsZQ%3D%3D?line=46'>47</a>\u001b[0m     \u001b[39mself\u001b[39m\u001b[39m.\u001b[39mweights[\u001b[39m1\u001b[39m:] \u001b[39m+\u001b[39m\u001b[39m=\u001b[39m update \u001b[39m*\u001b[39m xi\n\u001b[0;32m     <a href='vscode-notebook-cell:/c%3A/Users/corvohyatt/Documents/UTM/9no/computoFlexible/pr1-1-percetron-iris-CorvoHyatt/and.ipynb#X10sZmlsZQ%3D%3D?line=47'>48</a>\u001b[0m     \u001b[39mself\u001b[39m\u001b[39m.\u001b[39mweights[\u001b[39m0\u001b[39m] \u001b[39m+\u001b[39m\u001b[39m=\u001b[39m update\n\u001b[0;32m     <a href='vscode-notebook-cell:/c%3A/Users/corvohyatt/Documents/UTM/9no/computoFlexible/pr1-1-percetron-iris-CorvoHyatt/and.ipynb#X10sZmlsZQ%3D%3D?line=48'>49</a>\u001b[0m     errors \u001b[39m+\u001b[39m\u001b[39m=\u001b[39m \u001b[39mint\u001b[39m(update \u001b[39m!=\u001b[39m \u001b[39m0\u001b[39m)\n",
      "\u001b[1;31mKeyboardInterrupt\u001b[0m: "
     ]
    }
   ],
   "source": [
    "ppn =Perceptron(eta=0.5, n_iter=0, random_state=3, init_weight=False,weights=[0,0,0], shuffle=False, f_activate='step')\n",
    "ppn.fit(X,y)\n",
    "\n",
    "plt.plot(range(1, len(ppn.errors) + 1), ppn.errors, marker = 'o')\n",
    "plt.xlabel('Epochs')\n",
    "plt.ylabel('Numero de actualizaciones')\n",
    "plt.show()"
   ]
  },
  {
   "cell_type": "code",
   "execution_count": 35,
   "metadata": {},
   "outputs": [],
   "source": [
    "def plot_decision_regions(X, y, classifier, resolution = 0.02):\n",
    "    markers = ('s', 'x', 'o', '^', 'v')\n",
    "    colors = ('red', 'blue', 'lightgreen', 'gray', 'cyan')\n",
    "    cmap = ListedColormap(colors[:len(np.unique(y))])\n",
    "    #Plot the decision surface\n",
    "    \n",
    "    x1_min, x1_max = X[:,0].min() - 1, X[:,0].max() + 1\n",
    "    x2_min, x2_max = X[:,1].min() - 1, X[:,1].max() + 1\n",
    "    xx1, xx2 = np.meshgrid(np.arange(x1_min,x1_max,resolution),np.arange(x2_min, x2_max, resolution))\n",
    "    Z = classifier.predict(np.array([xx1.ravel(), xx2.ravel()]).T)\n",
    "    Z = Z.reshape(xx1.shape)\n",
    "    plt.contourf(xx1, xx2, Z, alpha=0.3, cmap=cmap)\n",
    "    plt.xlim(xx1.min(), xx1.max())\n",
    "    plt.ylim(xx2.min(), xx2.max())\n",
    "    \n",
    "    #plot class samples\n",
    "    for idx, cl in enumerate(np.unique(y)):\n",
    "        plt.scatter(x = X[y == cl, 0], y = X[y == cl,1], alpha = 0.8, c = colors[idx], marker = markers[idx], label = cl, edgecolor  = 'black')\n",
    "    "
   ]
  },
  {
   "cell_type": "code",
   "execution_count": 36,
   "metadata": {},
   "outputs": [
    {
     "ename": "ValueError",
     "evalue": "The truth value of an array with more than one element is ambiguous. Use a.any() or a.all()",
     "output_type": "error",
     "traceback": [
      "\u001b[1;31m---------------------------------------------------------------------------\u001b[0m",
      "\u001b[1;31mValueError\u001b[0m                                Traceback (most recent call last)",
      "\u001b[1;32mc:\\Users\\corvohyatt\\Documents\\UTM\\9no\\computoFlexible\\pr1-1-percetron-iris-CorvoHyatt\\and.ipynb Celda 7\u001b[0m line \u001b[0;36m1\n\u001b[1;32m----> <a href='vscode-notebook-cell:/c%3A/Users/corvohyatt/Documents/UTM/9no/computoFlexible/pr1-1-percetron-iris-CorvoHyatt/and.ipynb#X13sZmlsZQ%3D%3D?line=0'>1</a>\u001b[0m plot_decision_regions(X, y, classifier\u001b[39m=\u001b[39mppn)\n\u001b[0;32m      <a href='vscode-notebook-cell:/c%3A/Users/corvohyatt/Documents/UTM/9no/computoFlexible/pr1-1-percetron-iris-CorvoHyatt/and.ipynb#X13sZmlsZQ%3D%3D?line=1'>2</a>\u001b[0m plt\u001b[39m.\u001b[39mxlabel(\u001b[39m'\u001b[39m\u001b[39msepal length\u001b[39m\u001b[39m'\u001b[39m)\n\u001b[0;32m      <a href='vscode-notebook-cell:/c%3A/Users/corvohyatt/Documents/UTM/9no/computoFlexible/pr1-1-percetron-iris-CorvoHyatt/and.ipynb#X13sZmlsZQ%3D%3D?line=2'>3</a>\u001b[0m plt\u001b[39m.\u001b[39mylabel(\u001b[39m'\u001b[39m\u001b[39mpetal length\u001b[39m\u001b[39m'\u001b[39m)\n",
      "\u001b[1;32mc:\\Users\\corvohyatt\\Documents\\UTM\\9no\\computoFlexible\\pr1-1-percetron-iris-CorvoHyatt\\and.ipynb Celda 7\u001b[0m line \u001b[0;36m1\n\u001b[0;32m      <a href='vscode-notebook-cell:/c%3A/Users/corvohyatt/Documents/UTM/9no/computoFlexible/pr1-1-percetron-iris-CorvoHyatt/and.ipynb#X13sZmlsZQ%3D%3D?line=7'>8</a>\u001b[0m x2_min, x2_max \u001b[39m=\u001b[39m X[:,\u001b[39m1\u001b[39m]\u001b[39m.\u001b[39mmin() \u001b[39m-\u001b[39m \u001b[39m1\u001b[39m, X[:,\u001b[39m1\u001b[39m]\u001b[39m.\u001b[39mmax() \u001b[39m+\u001b[39m \u001b[39m1\u001b[39m\n\u001b[0;32m      <a href='vscode-notebook-cell:/c%3A/Users/corvohyatt/Documents/UTM/9no/computoFlexible/pr1-1-percetron-iris-CorvoHyatt/and.ipynb#X13sZmlsZQ%3D%3D?line=8'>9</a>\u001b[0m xx1, xx2 \u001b[39m=\u001b[39m np\u001b[39m.\u001b[39mmeshgrid(np\u001b[39m.\u001b[39marange(x1_min,x1_max,resolution),np\u001b[39m.\u001b[39marange(x2_min, x2_max, resolution))\n\u001b[1;32m---> <a href='vscode-notebook-cell:/c%3A/Users/corvohyatt/Documents/UTM/9no/computoFlexible/pr1-1-percetron-iris-CorvoHyatt/and.ipynb#X13sZmlsZQ%3D%3D?line=9'>10</a>\u001b[0m Z \u001b[39m=\u001b[39m classifier\u001b[39m.\u001b[39mpredict(np\u001b[39m.\u001b[39marray([xx1\u001b[39m.\u001b[39mravel(), xx2\u001b[39m.\u001b[39mravel()])\u001b[39m.\u001b[39mT)\n\u001b[0;32m     <a href='vscode-notebook-cell:/c%3A/Users/corvohyatt/Documents/UTM/9no/computoFlexible/pr1-1-percetron-iris-CorvoHyatt/and.ipynb#X13sZmlsZQ%3D%3D?line=10'>11</a>\u001b[0m Z \u001b[39m=\u001b[39m Z\u001b[39m.\u001b[39mreshape(xx1\u001b[39m.\u001b[39mshape)\n\u001b[0;32m     <a href='vscode-notebook-cell:/c%3A/Users/corvohyatt/Documents/UTM/9no/computoFlexible/pr1-1-percetron-iris-CorvoHyatt/and.ipynb#X13sZmlsZQ%3D%3D?line=11'>12</a>\u001b[0m plt\u001b[39m.\u001b[39mcontourf(xx1, xx2, Z, alpha\u001b[39m=\u001b[39m\u001b[39m0.3\u001b[39m, cmap\u001b[39m=\u001b[39mcmap)\n",
      "\u001b[1;32mc:\\Users\\corvohyatt\\Documents\\UTM\\9no\\computoFlexible\\pr1-1-percetron-iris-CorvoHyatt\\and.ipynb Celda 7\u001b[0m line \u001b[0;36m3\n\u001b[0;32m     <a href='vscode-notebook-cell:/c%3A/Users/corvohyatt/Documents/UTM/9no/computoFlexible/pr1-1-percetron-iris-CorvoHyatt/and.ipynb#X13sZmlsZQ%3D%3D?line=29'>30</a>\u001b[0m \u001b[39mdef\u001b[39;00m \u001b[39mpredict\u001b[39m(\u001b[39mself\u001b[39m, X):\n\u001b[0;32m     <a href='vscode-notebook-cell:/c%3A/Users/corvohyatt/Documents/UTM/9no/computoFlexible/pr1-1-percetron-iris-CorvoHyatt/and.ipynb#X13sZmlsZQ%3D%3D?line=30'>31</a>\u001b[0m     z \u001b[39m=\u001b[39m \u001b[39mself\u001b[39m\u001b[39m.\u001b[39mnet_input(X)\n\u001b[1;32m---> <a href='vscode-notebook-cell:/c%3A/Users/corvohyatt/Documents/UTM/9no/computoFlexible/pr1-1-percetron-iris-CorvoHyatt/and.ipynb#X13sZmlsZQ%3D%3D?line=31'>32</a>\u001b[0m     \u001b[39mreturn\u001b[39;00m \u001b[39mself\u001b[39m\u001b[39m.\u001b[39m_activate(z)\n",
      "\u001b[1;32mc:\\Users\\corvohyatt\\Documents\\UTM\\9no\\computoFlexible\\pr1-1-percetron-iris-CorvoHyatt\\and.ipynb Celda 7\u001b[0m line \u001b[0;36m2\n\u001b[0;32m     <a href='vscode-notebook-cell:/c%3A/Users/corvohyatt/Documents/UTM/9no/computoFlexible/pr1-1-percetron-iris-CorvoHyatt/and.ipynb#X13sZmlsZQ%3D%3D?line=20'>21</a>\u001b[0m \u001b[39mdef\u001b[39;00m \u001b[39m_activate\u001b[39m(\u001b[39mself\u001b[39m, z):\n\u001b[0;32m     <a href='vscode-notebook-cell:/c%3A/Users/corvohyatt/Documents/UTM/9no/computoFlexible/pr1-1-percetron-iris-CorvoHyatt/and.ipynb#X13sZmlsZQ%3D%3D?line=21'>22</a>\u001b[0m     \u001b[39mif\u001b[39;00m \u001b[39mself\u001b[39m\u001b[39m.\u001b[39mf_activate \u001b[39m==\u001b[39m \u001b[39m'\u001b[39m\u001b[39mstep\u001b[39m\u001b[39m'\u001b[39m:\n\u001b[1;32m---> <a href='vscode-notebook-cell:/c%3A/Users/corvohyatt/Documents/UTM/9no/computoFlexible/pr1-1-percetron-iris-CorvoHyatt/and.ipynb#X13sZmlsZQ%3D%3D?line=22'>23</a>\u001b[0m         \u001b[39mreturn\u001b[39;00m \u001b[39m1\u001b[39m \u001b[39mif\u001b[39;00m z \u001b[39m>\u001b[39m\u001b[39m=\u001b[39m \u001b[39m0\u001b[39m \u001b[39melse\u001b[39;00m \u001b[39m0\u001b[39m\n\u001b[0;32m     <a href='vscode-notebook-cell:/c%3A/Users/corvohyatt/Documents/UTM/9no/computoFlexible/pr1-1-percetron-iris-CorvoHyatt/and.ipynb#X13sZmlsZQ%3D%3D?line=23'>24</a>\u001b[0m     \u001b[39melif\u001b[39;00m \u001b[39mself\u001b[39m\u001b[39m.\u001b[39mf_activate \u001b[39m==\u001b[39m \u001b[39m'\u001b[39m\u001b[39msign\u001b[39m\u001b[39m'\u001b[39m:\n\u001b[0;32m     <a href='vscode-notebook-cell:/c%3A/Users/corvohyatt/Documents/UTM/9no/computoFlexible/pr1-1-percetron-iris-CorvoHyatt/and.ipynb#X13sZmlsZQ%3D%3D?line=24'>25</a>\u001b[0m         \u001b[39mreturn\u001b[39;00m np\u001b[39m.\u001b[39msign(z)\n",
      "\u001b[1;31mValueError\u001b[0m: The truth value of an array with more than one element is ambiguous. Use a.any() or a.all()"
     ]
    }
   ],
   "source": [
    "plot_decision_regions(X, y, classifier=ppn)\n",
    "plt.xlabel('sepal length')\n",
    "plt.ylabel('petal length')\n",
    "plt.legend(loc='upper left')\n",
    "plt.show()"
   ]
  }
 ],
 "metadata": {
  "kernelspec": {
   "display_name": "base",
   "language": "python",
   "name": "python3"
  },
  "language_info": {
   "codemirror_mode": {
    "name": "ipython",
    "version": 3
   },
   "file_extension": ".py",
   "mimetype": "text/x-python",
   "name": "python",
   "nbconvert_exporter": "python",
   "pygments_lexer": "ipython3",
   "version": "3.11.5"
  }
 },
 "nbformat": 4,
 "nbformat_minor": 2
}
