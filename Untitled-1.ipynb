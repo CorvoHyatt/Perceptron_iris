{
 "cells": [
  {
   "cell_type": "code",
   "execution_count": 1,
   "metadata": {},
   "outputs": [
    {
     "name": "stdout",
     "output_type": "stream",
     "text": [
      "Accuracy: 96.00%\n"
     ]
    }
   ],
   "source": [
    "import numpy as np\n",
    "import pandas as pd\n",
    "\n",
    "# Descarga el conjunto de datos Iris\n",
    "url = \"http://archive.ics.uci.edu/ml/machine-learning-databases/iris/iris.data\"\n",
    "column_names = ['sepal_length', 'sepal_width', 'petal_length', 'petal_width', 'class']\n",
    "iris_data = pd.read_csv(url, names=column_names,  header=None, encoding = 'utf-8')\n",
    "\n",
    "# Mapea las clases a valores numéricos (por ejemplo, 0, 1, 2)\n",
    "class_mapping = {'Iris-setosa': 0, 'Iris-versicolor': 1, 'Iris-virginica': 2}\n",
    "iris_data['class'] = iris_data['class'].map(class_mapping)\n",
    "\n",
    "# Obtén las características (X) y las etiquetas de clase (y)\n",
    "X = iris_data.iloc[:, :-1].values\n",
    "y = iris_data['class'].values\n",
    "\n",
    "# Normaliza las características\n",
    "X = (X - X.mean(axis=0)) / X.std(axis=0)\n",
    "\n",
    "# Agrega una columna de sesgo a las características\n",
    "X = np.c_[np.ones(X.shape[0]), X]\n",
    "\n",
    "# Inicializa pesos y tasa de aprendizaje\n",
    "np.random.seed(42)\n",
    "weights = np.random.rand(X.shape[1], len(np.unique(y)))\n",
    "learning_rate = 0.01\n",
    "epochs = 1000\n",
    "\n",
    "# Función de activación (función escalón)\n",
    "def step_function(x):\n",
    "    return np.where(x >= 0, 1, 0)\n",
    "\n",
    "# Entrenamiento del perceptrón\n",
    "for epoch in range(epochs):\n",
    "    for i in range(X.shape[0]):\n",
    "        xi = X[i]\n",
    "        target = np.zeros(len(np.unique(y)))\n",
    "        target[y[i]] = 1\n",
    "\n",
    "        output = step_function(np.dot(xi, weights))\n",
    "        error = target - output\n",
    "\n",
    "        weights += learning_rate * np.outer(xi, error)\n",
    "\n",
    "# Predicciones\n",
    "predictions = np.argmax(np.dot(X, weights), axis=1)\n",
    "\n",
    "# Evaluar precisión\n",
    "accuracy = np.mean(predictions == y)\n",
    "print(f'Accuracy: {accuracy * 100:.2f}%')"
   ]
  }
 ],
 "metadata": {
  "kernelspec": {
   "display_name": "base",
   "language": "python",
   "name": "python3"
  },
  "language_info": {
   "codemirror_mode": {
    "name": "ipython",
    "version": 3
   },
   "file_extension": ".py",
   "mimetype": "text/x-python",
   "name": "python",
   "nbconvert_exporter": "python",
   "pygments_lexer": "ipython3",
   "version": "3.11.5"
  }
 },
 "nbformat": 4,
 "nbformat_minor": 2
}
