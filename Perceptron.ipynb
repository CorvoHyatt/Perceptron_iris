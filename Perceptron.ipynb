{
 "cells": [
  {
   "cell_type": "code",
   "execution_count": 1,
   "metadata": {},
   "outputs": [],
   "source": [
    "import numpy as np\n"
   ]
  },
  {
   "cell_type": "markdown",
   "metadata": {},
   "source": [
    "# Estructura base de la clase Perceptron\n",
    "\n",
    "\n",
    "```python\n",
    "class Perceptron(object):\n",
    "    \"\"\" Clasificador perceptrón \n",
    "    \n",
    "    Parámetros\n",
    "    ----------\n",
    "    eta : float\n",
    "        Taza de aprendizaje (entre 0.0 y 1.0)\n",
    "    n_iter : int\n",
    "        Pasos sobre la muestra de entrenamiento\n",
    "    random_state : int\n",
    "        Semilla generadora de número aleatorio para la inicialización de pesos aleatorios\n",
    "        \n",
    "    Atributos\n",
    "    ---------\n",
    "    w_: arreglo de 1-d\n",
    "        Pesos después de entrenamiento\n",
    "    errors_ : list\n",
    "        Número de clasificaciones incorrectas (actualizaciones) en cada época\n",
    "        \n",
    "    \"\"\"\n",
    "    \n",
    "    def __init__(self, eta = 0.01, n_iter = 10, random_state = 1):\n",
    "        self.eta = eta\n",
    "        self.n_iter = n_iter\n",
    "        self.random_state = random_state\n",
    "    \n",
    "    def fit(self, X, y):\n",
    "        \"\"\" Ajustar los datos de entrenamiento\n",
    "        \n",
    "        Parámetros\n",
    "        ----------\n",
    "        X : \n",
    "            Vector de entrenamiento\n",
    "        y: \n",
    "            Valores objetivo\n",
    "        \n",
    "        Returns\n",
    "        -------\n",
    "        self : object\n",
    "        \n",
    "        \"\"\"\n",
    "        \n",
    "        rgen = np.random.RandomState(self.random_state)\n",
    "        self.w_ = rgen.normal(loc= 0.0, scale= 0.01, size= 1 + X.shape[1])\n",
    "        #self.w_ = np.zeros(1 + X.shape[1])\n",
    "        self.errors_ = []\n",
    "        \n",
    "        for _ in range(self.n_iter):\n",
    "            # TODO implementar entrenamiento\n",
    "            \n",
    "        return self\n",
    "    \n",
    "    def net_input(self, X):\n",
    "        \"\"\" Calcular la entrada a la red\"\"\"\n",
    "        #TODO función de entrada\n",
    "        return false\n",
    "    \n",
    "    def predict(self, X):\n",
    "        \"\"\" Retornar la etiqueta de clase despues de la función de paso signo\"\"\"\n",
    "        #TODO función de activación paso o signo\n",
    "        return false\n",
    "```"
   ]
  },
  {
   "cell_type": "code",
   "execution_count": 2,
   "metadata": {},
   "outputs": [],
   "source": [
    "from typing import List\n",
    "class Perceptron:\n",
    "    def __init__(self,eta:float,n_iter:int, random_state:int, init_weight:bool, weights:List[int],shuffle:bool, f_activate:str):\n",
    "        self.eta = eta\n",
    "        self.n_iter = n_iter\n",
    "        self.random_state = random_state\n",
    "        self.init_weight = init_weight\n",
    "        self.weights = weights\n",
    "        self.shuffle = shuffle\n",
    "        self.f_activate = f_activate\n",
    "        self.errors = []\n",
    "    \n",
    "    def _initialize_weights(self, num_features):\n",
    "        if self.init_weight:\n",
    "            if self.random_state is not None:\n",
    "                np.random.seed(self.random_state)\n",
    "            self.weights = np.random.normal(loc=0.0, scale=0.01, size=num_features + 1)\n",
    "        else:\n",
    "            self.weights = np.zeros(num_features + 1)\n",
    "\n",
    "    def _activate(self, z):\n",
    "        if self.f_activate == 'step':\n",
    "            return np.where(z >= 0, 1, -1)\n",
    "        elif self.f_activate == 'sign':\n",
    "            return np.sign(z)\n",
    "\n",
    "    def net_input(self, X):\n",
    "        return np.dot(X, self.weights[1:]) + self.weights[0]\n",
    "\n",
    "    def predict(self, X):\n",
    "        z = self.net_input(X)\n",
    "        return self._activate(z)       \n",
    "    \n",
    "    def fit(self, X, y):\n",
    "        if self.weights is None:\n",
    "            num_features = X.shape[1]\n",
    "            self._initialize_weights(num_features)\n",
    "        if self.n_iter <= 0:  # Entrenar hasta que todos los ejemplos hayan sido aprendidos\n",
    "            epoch = 0\n",
    "            while True:\n",
    "                if self.shuffle:\n",
    "                    indices = np.random.permutation(len(y))\n",
    "                    X, y = X[indices], y[indices]\n",
    "                errors = 0\n",
    "                for xi, t in zip(X, y):\n",
    "                    update = self.eta * (t - self.predict(xi))\n",
    "                    self.weights[1:] += update * xi\n",
    "                    self.weights[0] += update\n",
    "                    errors += int(update != 0)\n",
    "                self.errors.append(errors)\n",
    "                epoch += 1\n",
    "                if errors == 0:\n",
    "                    break\n",
    "        else:  # Entrenar durante un número fijo de iteraciones\n",
    "            for _ in range(self.n_iter):\n",
    "                if self.shuffle:\n",
    "                    indices = np.random.permutation(len(y))\n",
    "                    X, y = X[indices], y[indices]\n",
    "                errors = 0\n",
    "                for xi, t in zip(X, y):\n",
    "                    update = self.eta * (t - self.predict(xi))\n",
    "                    self.weights[1:] += update * xi\n",
    "                    self.weights[0] += update\n",
    "                    errors += int(update != 0)\n",
    "                self.errors.append(errors)\n",
    "\n",
    "    \n",
    "        \n",
    "    "
   ]
  },
  {
   "cell_type": "code",
   "execution_count": 3,
   "metadata": {},
   "outputs": [],
   "source": [
    "import os\n",
    "import pandas as pd"
   ]
  },
  {
   "cell_type": "code",
   "execution_count": 8,
   "metadata": {},
   "outputs": [
    {
     "name": "stdout",
     "output_type": "stream",
     "text": [
      "URL:  http//archive.ics.uci.edu\\ml\\machine-learning-databases\\iris\\iris.data\n"
     ]
    }
   ],
   "source": [
    "s = os.path.join('http//archive.ics.uci.edu', 'ml','machine-learning-databases','iris','iris.data')\n",
    "print('URL: ', s)\n"
   ]
  },
  {
   "cell_type": "code",
   "execution_count": 9,
   "metadata": {},
   "outputs": [],
   "source": [
    "df = pd.read_csv('http://archive.ics.uci.edu/ml/machine-learning-databases/iris/iris.data', header=None, encoding = 'utf-8')"
   ]
  },
  {
   "cell_type": "code",
   "execution_count": 10,
   "metadata": {},
   "outputs": [
    {
     "data": {
      "text/html": [
       "<div>\n",
       "<style scoped>\n",
       "    .dataframe tbody tr th:only-of-type {\n",
       "        vertical-align: middle;\n",
       "    }\n",
       "\n",
       "    .dataframe tbody tr th {\n",
       "        vertical-align: top;\n",
       "    }\n",
       "\n",
       "    .dataframe thead th {\n",
       "        text-align: right;\n",
       "    }\n",
       "</style>\n",
       "<table border=\"1\" class=\"dataframe\">\n",
       "  <thead>\n",
       "    <tr style=\"text-align: right;\">\n",
       "      <th></th>\n",
       "      <th>0</th>\n",
       "      <th>1</th>\n",
       "      <th>2</th>\n",
       "      <th>3</th>\n",
       "      <th>4</th>\n",
       "    </tr>\n",
       "  </thead>\n",
       "  <tbody>\n",
       "    <tr>\n",
       "      <th>145</th>\n",
       "      <td>6.7</td>\n",
       "      <td>3.0</td>\n",
       "      <td>5.2</td>\n",
       "      <td>2.3</td>\n",
       "      <td>Iris-virginica</td>\n",
       "    </tr>\n",
       "    <tr>\n",
       "      <th>146</th>\n",
       "      <td>6.3</td>\n",
       "      <td>2.5</td>\n",
       "      <td>5.0</td>\n",
       "      <td>1.9</td>\n",
       "      <td>Iris-virginica</td>\n",
       "    </tr>\n",
       "    <tr>\n",
       "      <th>147</th>\n",
       "      <td>6.5</td>\n",
       "      <td>3.0</td>\n",
       "      <td>5.2</td>\n",
       "      <td>2.0</td>\n",
       "      <td>Iris-virginica</td>\n",
       "    </tr>\n",
       "    <tr>\n",
       "      <th>148</th>\n",
       "      <td>6.2</td>\n",
       "      <td>3.4</td>\n",
       "      <td>5.4</td>\n",
       "      <td>2.3</td>\n",
       "      <td>Iris-virginica</td>\n",
       "    </tr>\n",
       "    <tr>\n",
       "      <th>149</th>\n",
       "      <td>5.9</td>\n",
       "      <td>3.0</td>\n",
       "      <td>5.1</td>\n",
       "      <td>1.8</td>\n",
       "      <td>Iris-virginica</td>\n",
       "    </tr>\n",
       "  </tbody>\n",
       "</table>\n",
       "</div>"
      ],
      "text/plain": [
       "       0    1    2    3               4\n",
       "145  6.7  3.0  5.2  2.3  Iris-virginica\n",
       "146  6.3  2.5  5.0  1.9  Iris-virginica\n",
       "147  6.5  3.0  5.2  2.0  Iris-virginica\n",
       "148  6.2  3.4  5.4  2.3  Iris-virginica\n",
       "149  5.9  3.0  5.1  1.8  Iris-virginica"
      ]
     },
     "execution_count": 10,
     "metadata": {},
     "output_type": "execute_result"
    }
   ],
   "source": [
    "df.tail()"
   ]
  },
  {
   "cell_type": "code",
   "execution_count": 19,
   "metadata": {},
   "outputs": [],
   "source": [
    "import matplotlib.pyplot as plt\n",
    "import numpy as np"
   ]
  },
  {
   "cell_type": "code",
   "execution_count": 21,
   "metadata": {},
   "outputs": [],
   "source": [
    "y = df.iloc[0:100,4].values"
   ]
  },
  {
   "cell_type": "code",
   "execution_count": 22,
   "metadata": {},
   "outputs": [],
   "source": [
    "# seleccionar setosa y versicolor\n",
    "y = df.iloc[0:100,4].values\n",
    "y = np.where(y == 'Iris-setosa', -1, 1)"
   ]
  },
  {
   "cell_type": "code",
   "execution_count": 23,
   "metadata": {},
   "outputs": [],
   "source": [
    "# extraer lango del sepalo y largo del petalo\n",
    "X = df.iloc[0:100, [0,2]].values"
   ]
  },
  {
   "cell_type": "code",
   "execution_count": 24,
   "metadata": {},
   "outputs": [
    {
     "data": {
      "image/png": "[encoded data removed]",
      "text/plain": [
       "<Figure size 640x480 with 1 Axes>"
      ]
     },
     "metadata": {},
     "output_type": "display_data"
    }
   ],
   "source": [
    "# graficar datos\n",
    "plt.scatter(X[:50,0], X[:50,1], color='red', marker ='o', label='setosa')\n",
    "plt.scatter(X[50:100,0], X[50:100,1], color='blue', marker ='x', label='versicolor')\n",
    "plt.xlabel('petal length')\n",
    "plt.ylabel('sepal length')\n",
    "plt.legend(loc=\"upper left\")\n",
    "plt.show()"
   ]
  },
  {
   "cell_type": "code",
   "execution_count": 50,
   "metadata": {},
   "outputs": [],
   "source": [
    "ppn =Perceptron(eta=0.5, n_iter=0, random_state=1, init_weight=False,weights=[0,0,0], shuffle=False, f_activate='step')"
   ]
  },
  {
   "cell_type": "code",
   "execution_count": 51,
   "metadata": {},
   "outputs": [],
   "source": [
    "ppn.fit(X,y)"
   ]
  },
  {
   "cell_type": "code",
   "execution_count": 52,
   "metadata": {},
   "outputs": [
    {
     "data": {
      "image/png": "[encoded data removed]",
      "text/plain": [
       "<Figure size 640x480 with 1 Axes>"
      ]
     },
     "metadata": {},
     "output_type": "display_data"
    }
   ],
   "source": [
    "plt.plot(range(1,len(ppn.errors) + 1), ppn.errors, marker='o')\n",
    "plt.xlabel('Epoch')\n",
    "plt.ylabel('Number of updates')\n",
    "plt.show()"
   ]
  },
  {
   "cell_type": "code",
   "execution_count": 157,
   "metadata": {},
   "outputs": [],
   "source": [
    "from matplotlib.colors import ListedColormap"
   ]
  },
  {
   "cell_type": "code",
   "execution_count": 158,
   "metadata": {},
   "outputs": [],
   "source": [
    "def plot_decision_regions(X, y, classifier, resolution = 0.02):\n",
    "    markers = ('s', 'x', 'o', '^', 'v')\n",
    "    colors = ('red', 'blue', 'lightgreen', 'gray', 'cyan')\n",
    "    cmap = ListedColormap(colors[:len(np.unique(y))])\n",
    "    #Plot the decision surface\n",
    "    \n",
    "    x1_min, x1_max = X[:,0].min() - 1, X[:,0].max() + 1\n",
    "    x2_min, x2_max = X[:,1].min() - 1, X[:,1].max() + 1\n",
    "    xx1, xx2 = np.meshgrid(np.arange(x1_min,x1_max,resolution),np.arange(x2_min, x2_max, resolution))\n",
    "    Z = classifier.predict(np.array([xx1.ravel(), xx2.ravel()]).T)\n",
    "    Z = Z.reshape(xx1.shape)\n",
    "    plt.contourf(xx1, xx2, Z, alpha=0.3, cmap=cmap)\n",
    "    plt.xlim(xx1.min(), xx1.max())\n",
    "    plt.ylim(xx2.min(), xx2.max())\n",
    "    \n",
    "    #plot class samples\n",
    "    for idx, cl in enumerate(np.unique(y)):\n",
    "        plt.scatter(x = X[y == cl, 0], y = X[y == cl,1], alpha = 0.8, c = colors[idx], marker = markers[idx], label = cl, edgecolor  = 'black')\n",
    "    "
   ]
  },
  {
   "cell_type": "code",
   "execution_count": 159,
   "metadata": {},
   "outputs": [
    {
     "ename": "ValueError",
     "evalue": "The truth value of an array with more than one element is ambiguous. Use a.any() or a.all()",
     "output_type": "error",
     "traceback": [
      "\u001b[1;31m---------------------------------------------------------------------------\u001b[0m",
      "\u001b[1;31mValueError\u001b[0m                                Traceback (most recent call last)",
      "\u001b[1;32mc:\\Users\\corvohyatt\\Documents\\UTM\\9no\\computoFlexible\\pr1-1-percetron-iris-CorvoHyatt\\Perceptron.ipynb Celda 18\u001b[0m line \u001b[0;36m1\n\u001b[1;32m----> <a href='vscode-notebook-cell:/c%3A/Users/corvohyatt/Documents/UTM/9no/computoFlexible/pr1-1-percetron-iris-CorvoHyatt/Perceptron.ipynb#X21sZmlsZQ%3D%3D?line=0'>1</a>\u001b[0m plot_decision_regions(X, y, classifier\u001b[39m=\u001b[39mppn)\n\u001b[0;32m      <a href='vscode-notebook-cell:/c%3A/Users/corvohyatt/Documents/UTM/9no/computoFlexible/pr1-1-percetron-iris-CorvoHyatt/Perceptron.ipynb#X21sZmlsZQ%3D%3D?line=1'>2</a>\u001b[0m plt\u001b[39m.\u001b[39mxlabel(\u001b[39m'\u001b[39m\u001b[39msepal length\u001b[39m\u001b[39m'\u001b[39m)\n\u001b[0;32m      <a href='vscode-notebook-cell:/c%3A/Users/corvohyatt/Documents/UTM/9no/computoFlexible/pr1-1-percetron-iris-CorvoHyatt/Perceptron.ipynb#X21sZmlsZQ%3D%3D?line=2'>3</a>\u001b[0m plt\u001b[39m.\u001b[39mylabel(\u001b[39m'\u001b[39m\u001b[39mpetal length\u001b[39m\u001b[39m'\u001b[39m)\n",
      "\u001b[1;32mc:\\Users\\corvohyatt\\Documents\\UTM\\9no\\computoFlexible\\pr1-1-percetron-iris-CorvoHyatt\\Perceptron.ipynb Celda 18\u001b[0m line \u001b[0;36m1\n\u001b[0;32m      <a href='vscode-notebook-cell:/c%3A/Users/corvohyatt/Documents/UTM/9no/computoFlexible/pr1-1-percetron-iris-CorvoHyatt/Perceptron.ipynb#X21sZmlsZQ%3D%3D?line=7'>8</a>\u001b[0m x2_min, x2_max \u001b[39m=\u001b[39m X[:,\u001b[39m1\u001b[39m]\u001b[39m.\u001b[39mmin() \u001b[39m-\u001b[39m \u001b[39m1\u001b[39m, X[:,\u001b[39m1\u001b[39m]\u001b[39m.\u001b[39mmax() \u001b[39m+\u001b[39m \u001b[39m1\u001b[39m\n\u001b[0;32m      <a href='vscode-notebook-cell:/c%3A/Users/corvohyatt/Documents/UTM/9no/computoFlexible/pr1-1-percetron-iris-CorvoHyatt/Perceptron.ipynb#X21sZmlsZQ%3D%3D?line=8'>9</a>\u001b[0m xx1, xx2 \u001b[39m=\u001b[39m np\u001b[39m.\u001b[39mmeshgrid(np\u001b[39m.\u001b[39marange(x1_min,x1_max,resolution),np\u001b[39m.\u001b[39marange(x2_min, x2_max, resolution))\n\u001b[1;32m---> <a href='vscode-notebook-cell:/c%3A/Users/corvohyatt/Documents/UTM/9no/computoFlexible/pr1-1-percetron-iris-CorvoHyatt/Perceptron.ipynb#X21sZmlsZQ%3D%3D?line=9'>10</a>\u001b[0m Z \u001b[39m=\u001b[39m classifier\u001b[39m.\u001b[39mpredict(np\u001b[39m.\u001b[39marray([xx1\u001b[39m.\u001b[39mravel(), xx2\u001b[39m.\u001b[39mravel()])\u001b[39m.\u001b[39mT)\n\u001b[0;32m     <a href='vscode-notebook-cell:/c%3A/Users/corvohyatt/Documents/UTM/9no/computoFlexible/pr1-1-percetron-iris-CorvoHyatt/Perceptron.ipynb#X21sZmlsZQ%3D%3D?line=10'>11</a>\u001b[0m Z \u001b[39m=\u001b[39m Z\u001b[39m.\u001b[39mreshape(xx1\u001b[39m.\u001b[39mshape)\n\u001b[0;32m     <a href='vscode-notebook-cell:/c%3A/Users/corvohyatt/Documents/UTM/9no/computoFlexible/pr1-1-percetron-iris-CorvoHyatt/Perceptron.ipynb#X21sZmlsZQ%3D%3D?line=11'>12</a>\u001b[0m plt\u001b[39m.\u001b[39mcontourf(xx1, xx2, Z, alpha\u001b[39m=\u001b[39m\u001b[39m0.3\u001b[39m, cmap\u001b[39m=\u001b[39mcmap)\n",
      "\u001b[1;32mc:\\Users\\corvohyatt\\Documents\\UTM\\9no\\computoFlexible\\pr1-1-percetron-iris-CorvoHyatt\\Perceptron.ipynb Celda 18\u001b[0m line \u001b[0;36m2\n\u001b[0;32m     <a href='vscode-notebook-cell:/c%3A/Users/corvohyatt/Documents/UTM/9no/computoFlexible/pr1-1-percetron-iris-CorvoHyatt/Perceptron.ipynb#X21sZmlsZQ%3D%3D?line=26'>27</a>\u001b[0m \u001b[39mdef\u001b[39;00m \u001b[39mpredict\u001b[39m(\u001b[39mself\u001b[39m, x):\n\u001b[0;32m     <a href='vscode-notebook-cell:/c%3A/Users/corvohyatt/Documents/UTM/9no/computoFlexible/pr1-1-percetron-iris-CorvoHyatt/Perceptron.ipynb#X21sZmlsZQ%3D%3D?line=27'>28</a>\u001b[0m     z \u001b[39m=\u001b[39m np\u001b[39m.\u001b[39mdot(x, \u001b[39mself\u001b[39m\u001b[39m.\u001b[39mweights[\u001b[39m1\u001b[39m:]) \u001b[39m+\u001b[39m \u001b[39mself\u001b[39m\u001b[39m.\u001b[39mweights[\u001b[39m0\u001b[39m]\n\u001b[1;32m---> <a href='vscode-notebook-cell:/c%3A/Users/corvohyatt/Documents/UTM/9no/computoFlexible/pr1-1-percetron-iris-CorvoHyatt/Perceptron.ipynb#X21sZmlsZQ%3D%3D?line=28'>29</a>\u001b[0m     \u001b[39mreturn\u001b[39;00m \u001b[39mself\u001b[39m\u001b[39m.\u001b[39m_activation(z)\n",
      "\u001b[1;32mc:\\Users\\corvohyatt\\Documents\\UTM\\9no\\computoFlexible\\pr1-1-percetron-iris-CorvoHyatt\\Perceptron.ipynb Celda 18\u001b[0m line \u001b[0;36m2\n\u001b[0;32m     <a href='vscode-notebook-cell:/c%3A/Users/corvohyatt/Documents/UTM/9no/computoFlexible/pr1-1-percetron-iris-CorvoHyatt/Perceptron.ipynb#X21sZmlsZQ%3D%3D?line=18'>19</a>\u001b[0m \u001b[39mdef\u001b[39;00m \u001b[39m_activation\u001b[39m(\u001b[39mself\u001b[39m, z):\n\u001b[0;32m     <a href='vscode-notebook-cell:/c%3A/Users/corvohyatt/Documents/UTM/9no/computoFlexible/pr1-1-percetron-iris-CorvoHyatt/Perceptron.ipynb#X21sZmlsZQ%3D%3D?line=19'>20</a>\u001b[0m     \u001b[39mif\u001b[39;00m \u001b[39mself\u001b[39m\u001b[39m.\u001b[39mf_activate \u001b[39m==\u001b[39m \u001b[39m\"\u001b[39m\u001b[39mstep\u001b[39m\u001b[39m\"\u001b[39m:\n\u001b[1;32m---> <a href='vscode-notebook-cell:/c%3A/Users/corvohyatt/Documents/UTM/9no/computoFlexible/pr1-1-percetron-iris-CorvoHyatt/Perceptron.ipynb#X21sZmlsZQ%3D%3D?line=20'>21</a>\u001b[0m         \u001b[39mreturn\u001b[39;00m \u001b[39m1\u001b[39m \u001b[39mif\u001b[39;00m z \u001b[39m>\u001b[39m\u001b[39m=\u001b[39m \u001b[39m0\u001b[39m \u001b[39melse\u001b[39;00m \u001b[39m0\u001b[39m\n\u001b[0;32m     <a href='vscode-notebook-cell:/c%3A/Users/corvohyatt/Documents/UTM/9no/computoFlexible/pr1-1-percetron-iris-CorvoHyatt/Perceptron.ipynb#X21sZmlsZQ%3D%3D?line=21'>22</a>\u001b[0m     \u001b[39melif\u001b[39;00m \u001b[39mself\u001b[39m\u001b[39m.\u001b[39mf_activate \u001b[39m==\u001b[39m \u001b[39m\"\u001b[39m\u001b[39msign\u001b[39m\u001b[39m\"\u001b[39m:\n\u001b[0;32m     <a href='vscode-notebook-cell:/c%3A/Users/corvohyatt/Documents/UTM/9no/computoFlexible/pr1-1-percetron-iris-CorvoHyatt/Perceptron.ipynb#X21sZmlsZQ%3D%3D?line=22'>23</a>\u001b[0m         \u001b[39mreturn\u001b[39;00m np\u001b[39m.\u001b[39msign(z)\n",
      "\u001b[1;31mValueError\u001b[0m: The truth value of an array with more than one element is ambiguous. Use a.any() or a.all()"
     ]
    }
   ],
   "source": [
    "plot_decision_regions(X, y, classifier=ppn)\n",
    "plt.xlabel('sepal length')\n",
    "plt.ylabel('petal length')\n",
    "plt.legend(loc='upper left')\n",
    "plt.show()"
   ]
  },
  {
   "cell_type": "code",
   "execution_count": null,
   "metadata": {
    "collapsed": true
   },
   "outputs": [],
   "source": []
  }
 ],
 "metadata": {
  "kernelspec": {
   "display_name": "Python 3",
   "language": "python",
   "name": "python3"
  },
  "language_info": {
   "codemirror_mode": {
    "name": "ipython",
    "version": 3
   },
   "file_extension": ".py",
   "mimetype": "text/x-python",
   "name": "python",
   "nbconvert_exporter": "python",
   "pygments_lexer": "ipython3",
   "version": "3.11.5"
  }
 },
 "nbformat": 4,
 "nbformat_minor": 2
}
